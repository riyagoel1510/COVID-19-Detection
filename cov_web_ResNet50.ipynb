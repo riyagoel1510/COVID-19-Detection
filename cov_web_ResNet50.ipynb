{
  "nbformat": 4,
  "nbformat_minor": 0,
  "metadata": {
    "colab": {
      "provenance": [],
      "gpuType": "T4"
    },
    "kernelspec": {
      "name": "python3",
      "display_name": "Python 3"
    },
    "language_info": {
      "name": "python"
    },
    "accelerator": "GPU"
  },
  "cells": [
    {
      "cell_type": "code",
      "execution_count": null,
      "metadata": {
        "colab": {
          "base_uri": "https://localhost:8080/"
        },
        "id": "E-txvtvNyBVC",
        "outputId": "fe4524a4-dba4-430c-8c14-55e4ae52a2d8"
      },
      "outputs": [
        {
          "output_type": "stream",
          "name": "stdout",
          "text": [
            "Mounted at /content/gdrive\n"
          ]
        }
      ],
      "source": [
        "from google.colab import drive\n",
        "drive.mount('/content/gdrive')"
      ]
    },
    {
      "cell_type": "code",
      "source": [
        "import os\n",
        "import pandas as pd\n",
        "import numpy as np\n",
        "from tqdm import tqdm\n",
        "import keras\n",
        "from keras.utils import to_categorical\n",
        "import cv2\n",
        "import tensorflow as tf\n",
        "from sklearn.model_selection import train_test_split\n",
        "from keras.layers import  Flatten, Dense, Dropout\n",
        "from keras.callbacks import ModelCheckpoint, ReduceLROnPlateau\n",
        "from keras.applications import ResNet50\n",
        "from tensorflow.keras.layers import Input\n",
        "from keras.models import Model\n",
        "from keras import optimizers\n",
        "from keras.optimizers import Adam\n",
        "from keras.layers import Dense, GlobalAveragePooling2D\n",
        "from keras.layers import Dense, Dropout, Flatten, Conv2D, MaxPool2D, BatchNormalization, AveragePooling2D, GlobalAveragePooling2D\n",
        "from tensorflow.keras.preprocessing import image\n",
        "from tensorflow.keras.preprocessing.image import ImageDataGenerator\n",
        "from keras import callbacks\n",
        "import matplotlib.pyplot as plt\n",
        "from sklearn.metrics import confusion_matrix\n",
        "import seaborn as sns"
      ],
      "metadata": {
        "id": "4npRAPwcycBE"
      },
      "execution_count": null,
      "outputs": []
    },
    {
      "cell_type": "code",
      "source": [
        "%tensorflow_version 2.x\n",
        "print(tf.__version__)\n",
        "print(tf.test.gpu_device_name())\n",
        "print(\"Num GPUs Available: \", len(tf.config.experimental.list_physical_devices('GPU')))"
      ],
      "metadata": {
        "colab": {
          "base_uri": "https://localhost:8080/"
        },
        "id": "QcAodmuCzFuI",
        "outputId": "f523080f-c0a4-4af8-d6fa-1d33a6d3b713"
      },
      "execution_count": null,
      "outputs": [
        {
          "output_type": "stream",
          "name": "stdout",
          "text": [
            "Colab only includes TensorFlow 2.x; %tensorflow_version has no effect.\n",
            "2.13.0\n",
            "/device:GPU:0\n",
            "Num GPUs Available:  1\n"
          ]
        }
      ]
    },
    {
      "cell_type": "code",
      "source": [
        "cd /content/gdrive/MyDrive/cov_web_datset"
      ],
      "metadata": {
        "colab": {
          "base_uri": "https://localhost:8080/"
        },
        "id": "2Vxl8EBAzIe6",
        "outputId": "8dfed974-c2ae-4baf-be6c-8330e90be69b"
      },
      "execution_count": null,
      "outputs": [
        {
          "output_type": "stream",
          "name": "stdout",
          "text": [
            "/content/gdrive/MyDrive/cov_web_datset\n"
          ]
        }
      ]
    },
    {
      "cell_type": "code",
      "source": [
        "os.environ['KAGGLE_CONFIG_DIR'] = \"/content/gdrive/MyDrive/cov_web_datset\"\n",
        "!kaggle datasets download -d plameneduardo/sarscov2-ctscan-dataset\n",
        "!unzip \\*.zip  && rm *.zip"
      ],
      "metadata": {
        "colab": {
          "base_uri": "https://localhost:8080/"
        },
        "id": "5BRqR0hUzPZQ",
        "outputId": "9277f917-a08c-4282-d15b-51eb2addbd67"
      },
      "execution_count": null,
      "outputs": [
        {
          "output_type": "stream",
          "name": "stdout",
          "text": [
            "Traceback (most recent call last):\n",
            "  File \"/usr/local/bin/kaggle\", line 5, in <module>\n",
            "    from kaggle.cli import main\n",
            "  File \"/usr/local/lib/python3.10/dist-packages/kaggle/__init__.py\", line 23, in <module>\n",
            "    api.authenticate()\n",
            "  File \"/usr/local/lib/python3.10/dist-packages/kaggle/api/kaggle_api_extended.py\", line 403, in authenticate\n",
            "    raise IOError('Could not find {}. Make sure it\\'s located in'\n",
            "OSError: Could not find kaggle.json. Make sure it's located in /content/gdrive/MyDrive/cov_web_datset. Or use the environment method.\n",
            "unzip:  cannot find or open *.zip, *.zip.zip or *.zip.ZIP.\n",
            "\n",
            "No zipfiles found.\n"
          ]
        }
      ]
    },
    {
      "cell_type": "code",
      "source": [
        "disease_types=['COVID', 'non-COVID']\n",
        "data_dir = '/content/gdrive/MyDrive/cov_web_datset'\n",
        "train_dir = os.path.join(data_dir)"
      ],
      "metadata": {
        "id": "CHyNtqo4zZJ8"
      },
      "execution_count": null,
      "outputs": []
    },
    {
      "cell_type": "code",
      "source": [
        "train_data = []\n",
        "for defects_id, sp in enumerate(disease_types):\n",
        "    for file in os.listdir(os.path.join(train_dir, sp)):\n",
        "        train_data.append(['{}/{}'.format(sp, file), defects_id, sp])\n",
        "train = pd.DataFrame(train_data, columns=['File', 'DiseaseID','Disease Type'])"
      ],
      "metadata": {
        "id": "yfMjd-gBzvmr"
      },
      "execution_count": null,
      "outputs": []
    },
    {
      "cell_type": "code",
      "source": [
        "IMAGE_SIZE = 64\n",
        "def read_image(filepath):\n",
        "    return cv2.imread(os.path.join(data_dir, filepath))\n",
        "def resize_image(image, image_size):\n",
        "    return cv2.resize(image.copy(), image_size, interpolation=cv2.INTER_AREA)"
      ],
      "metadata": {
        "id": "50e9FSrVz1uo"
      },
      "execution_count": null,
      "outputs": []
    },
    {
      "cell_type": "code",
      "source": [
        "X_train = np.zeros((train.shape[0], IMAGE_SIZE, IMAGE_SIZE, 3))\n",
        "for i, file in tqdm(enumerate(train['File'].values)):\n",
        "    image = read_image(file)\n",
        "    if image is not None:\n",
        "        X_train[i] = resize_image(image, (IMAGE_SIZE, IMAGE_SIZE))\n",
        "X_Train = X_train / 255.\n",
        "print(X_Train.shape)"
      ],
      "metadata": {
        "colab": {
          "base_uri": "https://localhost:8080/"
        },
        "id": "Khy9IDlfz3vP",
        "outputId": "e3cf353e-9013-46db-a868-68ed60335dcf"
      },
      "execution_count": null,
      "outputs": [
        {
          "output_type": "stream",
          "name": "stderr",
          "text": [
            "2481it [35:05,  1.18it/s]"
          ]
        },
        {
          "output_type": "stream",
          "name": "stdout",
          "text": [
            "(2481, 64, 64, 3)\n"
          ]
        },
        {
          "output_type": "stream",
          "name": "stderr",
          "text": [
            "\n"
          ]
        }
      ]
    },
    {
      "cell_type": "code",
      "source": [
        "Y_train = train['DiseaseID'].values\n",
        "Y_train = to_categorical(Y_train, num_classes=2)"
      ],
      "metadata": {
        "id": "AJUna-rY2GHI"
      },
      "execution_count": null,
      "outputs": []
    },
    {
      "cell_type": "code",
      "source": [
        "X_train, X_val, Y_train, Y_val = train_test_split(X_Train, Y_train, test_size=0.2, random_state = 42)"
      ],
      "metadata": {
        "id": "0I30na3T2KIY"
      },
      "execution_count": null,
      "outputs": []
    },
    {
      "cell_type": "code",
      "source": [
        "BATCH_SIZE = 64\n",
        "EPOCHS = 100\n",
        "SIZE=64\n",
        "N_ch=3"
      ],
      "metadata": {
        "id": "GqeJG8S12LlI"
      },
      "execution_count": null,
      "outputs": []
    },
    {
      "cell_type": "code",
      "source": [
        "from keras.optimizers import Adam\n",
        "from tensorflow.keras.callbacks import ReduceLROnPlateau, ModelCheckpoint\n",
        "from keras.preprocessing.image import ImageDataGenerator\n",
        "\n",
        "def build_resnet50():\n",
        "    resnet50 = ResNet50(weights='imagenet', include_top=False)\n",
        "\n",
        "    input = Input(shape=(SIZE, SIZE, N_ch))\n",
        "    x = Conv2D(3, (3, 3), padding='same')(input)\n",
        "\n",
        "    x = resnet50(x)\n",
        "\n",
        "    x = GlobalAveragePooling2D()(x)\n",
        "    x = BatchNormalization()(x)\n",
        "    x = Dropout(0.5)(x)\n",
        "    x = Dense(256, activation='relu')(x)\n",
        "    x = BatchNormalization()(x)\n",
        "    x = Dropout(0.5)(x)\n",
        "\n",
        "    # Multi-output\n",
        "    output = Dense(2, activation='softmax', name='root')(x)\n",
        "\n",
        "    # Model\n",
        "    model = Model(inputs=input, outputs=output)\n",
        "\n",
        "    optimizer = Adam(learning_rate=0.003, beta_1=0.9, beta_2=0.999, epsilon=1e-07)  # Replace epsilon with the desired value\n",
        "    model.compile(loss='categorical_crossentropy', optimizer=optimizer, metrics=['accuracy'])\n",
        "    model.summary()\n",
        "\n",
        "    return model\n",
        "\n",
        "model = build_resnet50()\n",
        "annealer = ReduceLROnPlateau(monitor='val_accuracy', factor=0.70, patience=5, verbose=1, min_lr=1e-4)\n",
        "checkpoint = ModelCheckpoint('ResNet50_Model.hdf5', verbose=1, save_best_only=True)\n",
        "datagen = ImageDataGenerator(rotation_range=360,\n",
        "                        width_shift_range=0.2,\n",
        "                        height_shift_range=0.2,\n",
        "                        zoom_range=0.2,\n",
        "                        horizontal_flip=True,\n",
        "                        vertical_flip=True)\n",
        "\n",
        "datagen.fit(X_train)\n"
      ],
      "metadata": {
        "colab": {
          "base_uri": "https://localhost:8080/"
        },
        "id": "xMKWt3JX2Lck",
        "outputId": "7ee4d4d1-65d4-4521-8ec3-d5621a16e779"
      },
      "execution_count": null,
      "outputs": [
        {
          "output_type": "stream",
          "name": "stdout",
          "text": [
            "Model: \"model_7\"\n",
            "_________________________________________________________________\n",
            " Layer (type)                Output Shape              Param #   \n",
            "=================================================================\n",
            " input_16 (InputLayer)       [(None, 64, 64, 3)]       0         \n",
            "                                                                 \n",
            " conv2d_7 (Conv2D)           (None, 64, 64, 3)         84        \n",
            "                                                                 \n",
            " resnet50 (Functional)       (None, None, None, 2048   23587712  \n",
            "                             )                                   \n",
            "                                                                 \n",
            " global_average_pooling2d_7  (None, 2048)              0         \n",
            "  (GlobalAveragePooling2D)                                       \n",
            "                                                                 \n",
            " batch_normalization_14 (Ba  (None, 2048)              8192      \n",
            " tchNormalization)                                               \n",
            "                                                                 \n",
            " dropout_14 (Dropout)        (None, 2048)              0         \n",
            "                                                                 \n",
            " dense_7 (Dense)             (None, 256)               524544    \n",
            "                                                                 \n",
            " batch_normalization_15 (Ba  (None, 256)               1024      \n",
            " tchNormalization)                                               \n",
            "                                                                 \n",
            " dropout_15 (Dropout)        (None, 256)               0         \n",
            "                                                                 \n",
            " root (Dense)                (None, 2)                 514       \n",
            "                                                                 \n",
            "=================================================================\n",
            "Total params: 24122070 (92.02 MB)\n",
            "Trainable params: 24064342 (91.80 MB)\n",
            "Non-trainable params: 57728 (225.50 KB)\n",
            "_________________________________________________________________\n"
          ]
        }
      ]
    },
    {
      "cell_type": "code",
      "source": [
        "history = model.fit_generator(datagen.flow(X_train, Y_train, batch_size=BATCH_SIZE),\n",
        "               steps_per_epoch=X_train.shape[0] // BATCH_SIZE,\n",
        "               epochs=EPOCHS,\n",
        "               verbose=1,\n",
        "               callbacks=[annealer, checkpoint],\n",
        "               validation_data=(X_val, Y_val))"
      ],
      "metadata": {
        "colab": {
          "base_uri": "https://localhost:8080/"
        },
        "id": "bAaKTdX08IiY",
        "outputId": "3e618457-eb82-453b-d70f-04e49538e3e3"
      },
      "execution_count": null,
      "outputs": [
        {
          "output_type": "stream",
          "name": "stderr",
          "text": [
            "<ipython-input-34-427914eb0244>:1: UserWarning: `Model.fit_generator` is deprecated and will be removed in a future version. Please use `Model.fit`, which supports generators.\n",
            "  history = model.fit_generator(datagen.flow(X_train, Y_train, batch_size=BATCH_SIZE),\n"
          ]
        },
        {
          "output_type": "stream",
          "name": "stdout",
          "text": [
            "Epoch 1/100\n",
            "31/31 [==============================] - ETA: 0s - loss: 1.0337 - accuracy: 0.5862\n",
            "Epoch 1: val_loss improved from inf to 4718885.00000, saving model to ResNet50_Model.hdf5\n"
          ]
        },
        {
          "output_type": "stream",
          "name": "stderr",
          "text": [
            "/usr/local/lib/python3.10/dist-packages/keras/src/engine/training.py:3000: UserWarning: You are saving your model as an HDF5 file via `model.save()`. This file format is considered legacy. We recommend using instead the native Keras format, e.g. `model.save('my_model.keras')`.\n",
            "  saving_api.save_model(\n"
          ]
        },
        {
          "output_type": "stream",
          "name": "stdout",
          "text": [
            "\b\b\b\b\b\b\b\b\b\b\b\b\b\b\b\b\b\b\b\b\b\b\b\b\b\b\b\b\b\b\b\b\b\b\b\b\b\b\b\b\b\b\b\b\b\b\b\b\b\b\b\b\b\b\b\b\b\b\b\b\b\b\b\b\b\b\b\b\b\b\b\b\b\b\b\b\b\b\b\b\b\b\r31/31 [==============================] - 58s 247ms/step - loss: 1.0337 - accuracy: 0.5862 - val_loss: 4718885.0000 - val_accuracy: 0.4809 - lr: 0.0030\n",
            "Epoch 2/100\n",
            "31/31 [==============================] - ETA: 0s - loss: 0.7799 - accuracy: 0.5791\n",
            "Epoch 2: val_loss improved from 4718885.00000 to 128.71451, saving model to ResNet50_Model.hdf5\n",
            "31/31 [==============================] - 7s 237ms/step - loss: 0.7799 - accuracy: 0.5791 - val_loss: 128.7145 - val_accuracy: 0.4809 - lr: 0.0030\n",
            "Epoch 3/100\n",
            "31/31 [==============================] - ETA: 0s - loss: 0.7357 - accuracy: 0.5912\n",
            "Epoch 3: val_loss improved from 128.71451 to 1.16239, saving model to ResNet50_Model.hdf5\n",
            "31/31 [==============================] - 5s 175ms/step - loss: 0.7357 - accuracy: 0.5912 - val_loss: 1.1624 - val_accuracy: 0.5191 - lr: 0.0030\n",
            "Epoch 4/100\n",
            "31/31 [==============================] - ETA: 0s - loss: 0.6878 - accuracy: 0.6396\n",
            "Epoch 4: val_loss did not improve from 1.16239\n",
            "31/31 [==============================] - 5s 146ms/step - loss: 0.6878 - accuracy: 0.6396 - val_loss: 1.4466 - val_accuracy: 0.6398 - lr: 0.0030\n",
            "Epoch 5/100\n",
            "31/31 [==============================] - ETA: 0s - loss: 0.6186 - accuracy: 0.6951\n",
            "Epoch 5: val_loss did not improve from 1.16239\n",
            "31/31 [==============================] - 5s 153ms/step - loss: 0.6186 - accuracy: 0.6951 - val_loss: 1788.4130 - val_accuracy: 0.5191 - lr: 0.0030\n",
            "Epoch 6/100\n",
            "31/31 [==============================] - ETA: 0s - loss: 0.5890 - accuracy: 0.7359\n",
            "Epoch 6: val_loss did not improve from 1.16239\n",
            "31/31 [==============================] - 4s 143ms/step - loss: 0.5890 - accuracy: 0.7359 - val_loss: 12.0032 - val_accuracy: 0.5191 - lr: 0.0030\n",
            "Epoch 7/100\n",
            "31/31 [==============================] - ETA: 0s - loss: 0.6184 - accuracy: 0.7112\n",
            "Epoch 7: val_loss did not improve from 1.16239\n",
            "31/31 [==============================] - 5s 164ms/step - loss: 0.6184 - accuracy: 0.7112 - val_loss: 91.8982 - val_accuracy: 0.5191 - lr: 0.0030\n",
            "Epoch 8/100\n",
            "31/31 [==============================] - ETA: 0s - loss: 0.5265 - accuracy: 0.7656\n",
            "Epoch 8: val_loss improved from 1.16239 to 0.69740, saving model to ResNet50_Model.hdf5\n",
            "31/31 [==============================] - 11s 349ms/step - loss: 0.5265 - accuracy: 0.7656 - val_loss: 0.6974 - val_accuracy: 0.4809 - lr: 0.0030\n",
            "Epoch 9/100\n",
            "31/31 [==============================] - ETA: 0s - loss: 0.5817 - accuracy: 0.7571\n",
            "Epoch 9: ReduceLROnPlateau reducing learning rate to 0.002100000018253922.\n",
            "\n",
            "Epoch 9: val_loss did not improve from 0.69740\n",
            "31/31 [==============================] - 7s 215ms/step - loss: 0.5817 - accuracy: 0.7571 - val_loss: 0.7153 - val_accuracy: 0.5191 - lr: 0.0030\n",
            "Epoch 10/100\n",
            "31/31 [==============================] - ETA: 0s - loss: 0.5622 - accuracy: 0.7450\n",
            "Epoch 10: val_loss did not improve from 0.69740\n",
            "31/31 [==============================] - 4s 136ms/step - loss: 0.5622 - accuracy: 0.7450 - val_loss: 279.5154 - val_accuracy: 0.5191 - lr: 0.0021\n",
            "Epoch 11/100\n",
            "31/31 [==============================] - ETA: 0s - loss: 0.5091 - accuracy: 0.7626\n",
            "Epoch 11: val_loss did not improve from 0.69740\n",
            "31/31 [==============================] - 6s 186ms/step - loss: 0.5091 - accuracy: 0.7626 - val_loss: 153.2491 - val_accuracy: 0.5191 - lr: 0.0021\n",
            "Epoch 12/100\n",
            "31/31 [==============================] - ETA: 0s - loss: 0.5545 - accuracy: 0.7712\n",
            "Epoch 12: val_loss did not improve from 0.69740\n",
            "31/31 [==============================] - 4s 119ms/step - loss: 0.5545 - accuracy: 0.7712 - val_loss: 8.8812 - val_accuracy: 0.5191 - lr: 0.0021\n",
            "Epoch 13/100\n",
            "31/31 [==============================] - ETA: 0s - loss: 0.4914 - accuracy: 0.7762\n",
            "Epoch 13: val_loss did not improve from 0.69740\n",
            "31/31 [==============================] - 6s 185ms/step - loss: 0.4914 - accuracy: 0.7762 - val_loss: 220.0865 - val_accuracy: 0.5191 - lr: 0.0021\n",
            "Epoch 14/100\n",
            "31/31 [==============================] - ETA: 0s - loss: 0.4722 - accuracy: 0.7888\n",
            "Epoch 14: ReduceLROnPlateau reducing learning rate to 0.0014699999475851653.\n",
            "\n",
            "Epoch 14: val_loss did not improve from 0.69740\n",
            "31/31 [==============================] - 4s 120ms/step - loss: 0.4722 - accuracy: 0.7888 - val_loss: 4.8587 - val_accuracy: 0.5191 - lr: 0.0021\n",
            "Epoch 15/100\n",
            "31/31 [==============================] - ETA: 0s - loss: 0.4569 - accuracy: 0.7954\n",
            "Epoch 15: val_loss did not improve from 0.69740\n",
            "31/31 [==============================] - 4s 122ms/step - loss: 0.4569 - accuracy: 0.7954 - val_loss: 2.3388 - val_accuracy: 0.5191 - lr: 0.0015\n",
            "Epoch 16/100\n",
            "31/31 [==============================] - ETA: 0s - loss: 0.4294 - accuracy: 0.8145\n",
            "Epoch 16: val_loss did not improve from 0.69740\n",
            "31/31 [==============================] - 5s 170ms/step - loss: 0.4294 - accuracy: 0.8145 - val_loss: 2.3155 - val_accuracy: 0.5191 - lr: 0.0015\n",
            "Epoch 17/100\n",
            "31/31 [==============================] - ETA: 0s - loss: 0.4068 - accuracy: 0.8241\n",
            "Epoch 17: val_loss improved from 0.69740 to 0.66857, saving model to ResNet50_Model.hdf5\n",
            "31/31 [==============================] - 11s 368ms/step - loss: 0.4068 - accuracy: 0.8241 - val_loss: 0.6686 - val_accuracy: 0.5875 - lr: 0.0015\n",
            "Epoch 18/100\n",
            "31/31 [==============================] - ETA: 0s - loss: 0.4067 - accuracy: 0.8201\n",
            "Epoch 18: val_loss did not improve from 0.66857\n",
            "31/31 [==============================] - 4s 120ms/step - loss: 0.4067 - accuracy: 0.8201 - val_loss: 0.6829 - val_accuracy: 0.5634 - lr: 0.0015\n",
            "Epoch 19/100\n",
            "31/31 [==============================] - ETA: 0s - loss: 0.4144 - accuracy: 0.8281\n",
            "Epoch 19: ReduceLROnPlateau reducing learning rate to 0.0010289999307133257.\n",
            "\n",
            "Epoch 19: val_loss did not improve from 0.66857\n",
            "31/31 [==============================] - 4s 144ms/step - loss: 0.4144 - accuracy: 0.8281 - val_loss: 0.7121 - val_accuracy: 0.5372 - lr: 0.0015\n",
            "Epoch 20/100\n",
            "31/31 [==============================] - ETA: 0s - loss: 0.3961 - accuracy: 0.8342\n",
            "Epoch 20: val_loss improved from 0.66857 to 0.64597, saving model to ResNet50_Model.hdf5\n",
            "31/31 [==============================] - 8s 248ms/step - loss: 0.3961 - accuracy: 0.8342 - val_loss: 0.6460 - val_accuracy: 0.6439 - lr: 0.0010\n",
            "Epoch 21/100\n",
            "31/31 [==============================] - ETA: 0s - loss: 0.3746 - accuracy: 0.8427\n",
            "Epoch 21: val_loss did not improve from 0.64597\n",
            "31/31 [==============================] - 4s 120ms/step - loss: 0.3746 - accuracy: 0.8427 - val_loss: 0.7053 - val_accuracy: 0.5976 - lr: 0.0010\n",
            "Epoch 22/100\n",
            "31/31 [==============================] - ETA: 0s - loss: 0.3747 - accuracy: 0.8412\n",
            "Epoch 22: val_loss did not improve from 0.64597\n",
            "31/31 [==============================] - 6s 193ms/step - loss: 0.3747 - accuracy: 0.8412 - val_loss: 0.7322 - val_accuracy: 0.6056 - lr: 0.0010\n",
            "Epoch 23/100\n",
            "31/31 [==============================] - ETA: 0s - loss: 0.3847 - accuracy: 0.8342\n",
            "Epoch 23: val_loss did not improve from 0.64597\n",
            "31/31 [==============================] - 4s 121ms/step - loss: 0.3847 - accuracy: 0.8342 - val_loss: 1.1902 - val_accuracy: 0.5433 - lr: 0.0010\n",
            "Epoch 24/100\n",
            "31/31 [==============================] - ETA: 0s - loss: 0.3913 - accuracy: 0.8407\n",
            "Epoch 24: val_loss did not improve from 0.64597\n",
            "31/31 [==============================] - 5s 176ms/step - loss: 0.3913 - accuracy: 0.8407 - val_loss: 0.8475 - val_accuracy: 0.5614 - lr: 0.0010\n",
            "Epoch 25/100\n",
            "31/31 [==============================] - ETA: 0s - loss: 0.4025 - accuracy: 0.8271\n",
            "Epoch 25: ReduceLROnPlateau reducing learning rate to 0.0007202999433502554.\n",
            "\n",
            "Epoch 25: val_loss did not improve from 0.64597\n",
            "31/31 [==============================] - 4s 120ms/step - loss: 0.4025 - accuracy: 0.8271 - val_loss: 1.5548 - val_accuracy: 0.4909 - lr: 0.0010\n",
            "Epoch 26/100\n",
            "31/31 [==============================] - ETA: 0s - loss: 0.3843 - accuracy: 0.8377\n",
            "Epoch 26: val_loss did not improve from 0.64597\n",
            "31/31 [==============================] - 4s 120ms/step - loss: 0.3843 - accuracy: 0.8377 - val_loss: 2.3653 - val_accuracy: 0.4809 - lr: 7.2030e-04\n",
            "Epoch 27/100\n",
            "31/31 [==============================] - ETA: 0s - loss: 0.3529 - accuracy: 0.8553\n",
            "Epoch 27: val_loss did not improve from 0.64597\n",
            "31/31 [==============================] - 5s 171ms/step - loss: 0.3529 - accuracy: 0.8553 - val_loss: 1.4019 - val_accuracy: 0.5352 - lr: 7.2030e-04\n",
            "Epoch 28/100\n",
            "31/31 [==============================] - ETA: 0s - loss: 0.3568 - accuracy: 0.8569\n",
            "Epoch 28: val_loss did not improve from 0.64597\n",
            "31/31 [==============================] - 4s 123ms/step - loss: 0.3568 - accuracy: 0.8569 - val_loss: 2.3369 - val_accuracy: 0.4809 - lr: 7.2030e-04\n",
            "Epoch 29/100\n",
            "31/31 [==============================] - ETA: 0s - loss: 0.3633 - accuracy: 0.8538\n",
            "Epoch 29: val_loss did not improve from 0.64597\n",
            "31/31 [==============================] - 6s 182ms/step - loss: 0.3633 - accuracy: 0.8538 - val_loss: 1.2322 - val_accuracy: 0.5714 - lr: 7.2030e-04\n",
            "Epoch 30/100\n",
            "31/31 [==============================] - ETA: 0s - loss: 0.3535 - accuracy: 0.8513\n",
            "Epoch 30: ReduceLROnPlateau reducing learning rate to 0.0005042099684942513.\n",
            "\n",
            "Epoch 30: val_loss did not improve from 0.64597\n",
            "31/31 [==============================] - 4s 121ms/step - loss: 0.3535 - accuracy: 0.8513 - val_loss: 1.1611 - val_accuracy: 0.5734 - lr: 7.2030e-04\n",
            "Epoch 31/100\n",
            "31/31 [==============================] - ETA: 0s - loss: 0.3835 - accuracy: 0.8538\n",
            "Epoch 31: val_loss did not improve from 0.64597\n",
            "31/31 [==============================] - 4s 121ms/step - loss: 0.3835 - accuracy: 0.8538 - val_loss: 0.9939 - val_accuracy: 0.6459 - lr: 5.0421e-04\n",
            "Epoch 32/100\n",
            "31/31 [==============================] - ETA: 0s - loss: 0.3444 - accuracy: 0.8619\n",
            "Epoch 32: val_loss did not improve from 0.64597\n",
            "31/31 [==============================] - 6s 184ms/step - loss: 0.3444 - accuracy: 0.8619 - val_loss: 2.1672 - val_accuracy: 0.4970 - lr: 5.0421e-04\n",
            "Epoch 33/100\n",
            "31/31 [==============================] - ETA: 0s - loss: 0.3703 - accuracy: 0.8448\n",
            "Epoch 33: val_loss did not improve from 0.64597\n",
            "31/31 [==============================] - 4s 120ms/step - loss: 0.3703 - accuracy: 0.8448 - val_loss: 1.0783 - val_accuracy: 0.6439 - lr: 5.0421e-04\n",
            "Epoch 34/100\n",
            "31/31 [==============================] - ETA: 0s - loss: 0.3668 - accuracy: 0.8468\n",
            "Epoch 34: val_loss did not improve from 0.64597\n",
            "31/31 [==============================] - 4s 117ms/step - loss: 0.3668 - accuracy: 0.8468 - val_loss: 1.2479 - val_accuracy: 0.5533 - lr: 5.0421e-04\n",
            "Epoch 35/100\n",
            "31/31 [==============================] - ETA: 0s - loss: 0.3426 - accuracy: 0.8649\n",
            "Epoch 35: val_loss did not improve from 0.64597\n",
            "31/31 [==============================] - 5s 164ms/step - loss: 0.3426 - accuracy: 0.8649 - val_loss: 1.2646 - val_accuracy: 0.6076 - lr: 5.0421e-04\n",
            "Epoch 36/100\n",
            "31/31 [==============================] - ETA: 0s - loss: 0.3497 - accuracy: 0.8609\n",
            "Epoch 36: ReduceLROnPlateau reducing learning rate to 0.0003529469657223671.\n",
            "\n",
            "Epoch 36: val_loss did not improve from 0.64597\n",
            "31/31 [==============================] - 4s 121ms/step - loss: 0.3497 - accuracy: 0.8609 - val_loss: 1.6485 - val_accuracy: 0.5111 - lr: 5.0421e-04\n",
            "Epoch 37/100\n",
            "31/31 [==============================] - ETA: 0s - loss: 0.3492 - accuracy: 0.8574\n",
            "Epoch 37: val_loss did not improve from 0.64597\n",
            "31/31 [==============================] - 4s 141ms/step - loss: 0.3492 - accuracy: 0.8574 - val_loss: 1.0103 - val_accuracy: 0.6237 - lr: 3.5295e-04\n",
            "Epoch 38/100\n",
            "31/31 [==============================] - ETA: 0s - loss: 0.3205 - accuracy: 0.8690\n",
            "Epoch 38: val_loss improved from 0.64597 to 0.35349, saving model to ResNet50_Model.hdf5\n",
            "31/31 [==============================] - 9s 293ms/step - loss: 0.3205 - accuracy: 0.8690 - val_loss: 0.3535 - val_accuracy: 0.8632 - lr: 3.5295e-04\n",
            "Epoch 39/100\n",
            "31/31 [==============================] - ETA: 0s - loss: 0.3314 - accuracy: 0.8684\n",
            "Epoch 39: val_loss did not improve from 0.35349\n",
            "31/31 [==============================] - 5s 164ms/step - loss: 0.3314 - accuracy: 0.8684 - val_loss: 0.6210 - val_accuracy: 0.7264 - lr: 3.5295e-04\n",
            "Epoch 40/100\n",
            "31/31 [==============================] - ETA: 0s - loss: 0.3281 - accuracy: 0.8679\n",
            "Epoch 40: val_loss did not improve from 0.35349\n",
            "31/31 [==============================] - 4s 133ms/step - loss: 0.3281 - accuracy: 0.8679 - val_loss: 0.9627 - val_accuracy: 0.5875 - lr: 3.5295e-04\n",
            "Epoch 41/100\n",
            "31/31 [==============================] - ETA: 0s - loss: 0.3352 - accuracy: 0.8674\n",
            "Epoch 41: val_loss did not improve from 0.35349\n",
            "31/31 [==============================] - 6s 192ms/step - loss: 0.3352 - accuracy: 0.8674 - val_loss: 1.4920 - val_accuracy: 0.5151 - lr: 3.5295e-04\n",
            "Epoch 42/100\n",
            "31/31 [==============================] - ETA: 0s - loss: 0.3276 - accuracy: 0.8644\n",
            "Epoch 42: val_loss did not improve from 0.35349\n",
            "31/31 [==============================] - 4s 119ms/step - loss: 0.3276 - accuracy: 0.8644 - val_loss: 0.9216 - val_accuracy: 0.6016 - lr: 3.5295e-04\n",
            "Epoch 43/100\n",
            "31/31 [==============================] - ETA: 0s - loss: 0.3287 - accuracy: 0.8705\n",
            "Epoch 43: ReduceLROnPlateau reducing learning rate to 0.0002470628678565845.\n",
            "\n",
            "Epoch 43: val_loss did not improve from 0.35349\n",
            "31/31 [==============================] - 6s 182ms/step - loss: 0.3287 - accuracy: 0.8705 - val_loss: 0.7215 - val_accuracy: 0.6640 - lr: 3.5295e-04\n",
            "Epoch 44/100\n",
            "31/31 [==============================] - ETA: 0s - loss: 0.3119 - accuracy: 0.8780\n",
            "Epoch 44: val_loss did not improve from 0.35349\n",
            "31/31 [==============================] - 4s 129ms/step - loss: 0.3119 - accuracy: 0.8780 - val_loss: 0.3552 - val_accuracy: 0.8551 - lr: 2.4706e-04\n",
            "Epoch 45/100\n",
            "31/31 [==============================] - ETA: 0s - loss: 0.3095 - accuracy: 0.8725\n",
            "Epoch 45: val_loss did not improve from 0.35349\n",
            "31/31 [==============================] - 4s 121ms/step - loss: 0.3095 - accuracy: 0.8725 - val_loss: 1.1703 - val_accuracy: 0.5473 - lr: 2.4706e-04\n",
            "Epoch 46/100\n",
            "31/31 [==============================] - ETA: 0s - loss: 0.3135 - accuracy: 0.8735\n",
            "Epoch 46: val_loss did not improve from 0.35349\n",
            "31/31 [==============================] - 5s 155ms/step - loss: 0.3135 - accuracy: 0.8735 - val_loss: 0.9102 - val_accuracy: 0.6237 - lr: 2.4706e-04\n",
            "Epoch 47/100\n",
            "31/31 [==============================] - ETA: 0s - loss: 0.3011 - accuracy: 0.8831\n",
            "Epoch 47: val_loss did not improve from 0.35349\n",
            "31/31 [==============================] - 4s 120ms/step - loss: 0.3011 - accuracy: 0.8831 - val_loss: 0.8195 - val_accuracy: 0.6398 - lr: 2.4706e-04\n",
            "Epoch 48/100\n",
            "31/31 [==============================] - ETA: 0s - loss: 0.3215 - accuracy: 0.8810\n",
            "Epoch 48: val_loss improved from 0.35349 to 0.31384, saving model to ResNet50_Model.hdf5\n",
            "31/31 [==============================] - 9s 309ms/step - loss: 0.3215 - accuracy: 0.8810 - val_loss: 0.3138 - val_accuracy: 0.8753 - lr: 2.4706e-04\n",
            "Epoch 49/100\n",
            "31/31 [==============================] - ETA: 0s - loss: 0.2999 - accuracy: 0.8846\n",
            "Epoch 49: val_loss did not improve from 0.31384\n",
            "31/31 [==============================] - 4s 123ms/step - loss: 0.2999 - accuracy: 0.8846 - val_loss: 1.6866 - val_accuracy: 0.4889 - lr: 2.4706e-04\n",
            "Epoch 50/100\n",
            "31/31 [==============================] - ETA: 0s - loss: 0.3032 - accuracy: 0.8810\n",
            "Epoch 50: val_loss did not improve from 0.31384\n",
            "31/31 [==============================] - 4s 139ms/step - loss: 0.3032 - accuracy: 0.8810 - val_loss: 0.5582 - val_accuracy: 0.7646 - lr: 2.4706e-04\n",
            "Epoch 51/100\n",
            "31/31 [==============================] - ETA: 0s - loss: 0.2938 - accuracy: 0.8795\n",
            "Epoch 51: val_loss did not improve from 0.31384\n",
            "31/31 [==============================] - 5s 164ms/step - loss: 0.2938 - accuracy: 0.8795 - val_loss: 0.3902 - val_accuracy: 0.8451 - lr: 2.4706e-04\n",
            "Epoch 52/100\n",
            "31/31 [==============================] - ETA: 0s - loss: 0.3002 - accuracy: 0.8831\n",
            "Epoch 52: val_loss improved from 0.31384 to 0.31261, saving model to ResNet50_Model.hdf5\n",
            "31/31 [==============================] - 13s 411ms/step - loss: 0.3002 - accuracy: 0.8831 - val_loss: 0.3126 - val_accuracy: 0.8813 - lr: 2.4706e-04\n",
            "Epoch 53/100\n",
            "31/31 [==============================] - ETA: 0s - loss: 0.3089 - accuracy: 0.8740\n",
            "Epoch 53: val_loss improved from 0.31261 to 0.31259, saving model to ResNet50_Model.hdf5\n",
            "31/31 [==============================] - 6s 186ms/step - loss: 0.3089 - accuracy: 0.8740 - val_loss: 0.3126 - val_accuracy: 0.8893 - lr: 2.4706e-04\n",
            "Epoch 54/100\n",
            "31/31 [==============================] - ETA: 0s - loss: 0.2959 - accuracy: 0.8805\n",
            "Epoch 54: val_loss did not improve from 0.31259\n",
            "31/31 [==============================] - 4s 122ms/step - loss: 0.2959 - accuracy: 0.8805 - val_loss: 0.4756 - val_accuracy: 0.8310 - lr: 2.4706e-04\n",
            "Epoch 55/100\n",
            "31/31 [==============================] - ETA: 0s - loss: 0.3181 - accuracy: 0.8705\n",
            "Epoch 55: val_loss improved from 0.31259 to 0.29149, saving model to ResNet50_Model.hdf5\n",
            "31/31 [==============================] - 10s 333ms/step - loss: 0.3181 - accuracy: 0.8705 - val_loss: 0.2915 - val_accuracy: 0.8974 - lr: 2.4706e-04\n",
            "Epoch 56/100\n",
            "31/31 [==============================] - ETA: 0s - loss: 0.3061 - accuracy: 0.8750\n",
            "Epoch 56: val_loss did not improve from 0.29149\n",
            "31/31 [==============================] - 4s 124ms/step - loss: 0.3061 - accuracy: 0.8750 - val_loss: 0.3024 - val_accuracy: 0.8994 - lr: 2.4706e-04\n",
            "Epoch 57/100\n",
            "31/31 [==============================] - ETA: 0s - loss: 0.3055 - accuracy: 0.8795\n",
            "Epoch 57: val_loss did not improve from 0.29149\n",
            "31/31 [==============================] - 5s 146ms/step - loss: 0.3055 - accuracy: 0.8795 - val_loss: 0.3654 - val_accuracy: 0.8612 - lr: 2.4706e-04\n",
            "Epoch 58/100\n",
            "31/31 [==============================] - ETA: 0s - loss: 0.2903 - accuracy: 0.8831\n",
            "Epoch 58: val_loss did not improve from 0.29149\n",
            "31/31 [==============================] - 5s 156ms/step - loss: 0.2903 - accuracy: 0.8831 - val_loss: 0.3451 - val_accuracy: 0.8672 - lr: 2.4706e-04\n",
            "Epoch 59/100\n",
            "31/31 [==============================] - ETA: 0s - loss: 0.3063 - accuracy: 0.8795\n",
            "Epoch 59: val_loss did not improve from 0.29149\n",
            "31/31 [==============================] - 4s 125ms/step - loss: 0.3063 - accuracy: 0.8795 - val_loss: 1.5605 - val_accuracy: 0.5151 - lr: 2.4706e-04\n",
            "Epoch 60/100\n",
            "31/31 [==============================] - ETA: 0s - loss: 0.3076 - accuracy: 0.8730\n",
            "Epoch 60: val_loss did not improve from 0.29149\n",
            "31/31 [==============================] - 5s 154ms/step - loss: 0.3076 - accuracy: 0.8730 - val_loss: 2.6071 - val_accuracy: 0.4809 - lr: 2.4706e-04\n",
            "Epoch 61/100\n",
            "31/31 [==============================] - ETA: 0s - loss: 0.3093 - accuracy: 0.8735\n",
            "Epoch 61: ReduceLROnPlateau reducing learning rate to 0.00017294401768594978.\n",
            "\n",
            "Epoch 61: val_loss did not improve from 0.29149\n",
            "31/31 [==============================] - 5s 152ms/step - loss: 0.3093 - accuracy: 0.8735 - val_loss: 1.9204 - val_accuracy: 0.4829 - lr: 2.4706e-04\n",
            "Epoch 62/100\n",
            "31/31 [==============================] - ETA: 0s - loss: 0.3033 - accuracy: 0.8785\n",
            "Epoch 62: val_loss did not improve from 0.29149\n",
            "31/31 [==============================] - 4s 131ms/step - loss: 0.3033 - accuracy: 0.8785 - val_loss: 0.7714 - val_accuracy: 0.6740 - lr: 1.7294e-04\n",
            "Epoch 63/100\n",
            "31/31 [==============================] - ETA: 0s - loss: 0.2923 - accuracy: 0.8886\n",
            "Epoch 63: val_loss did not improve from 0.29149\n",
            "31/31 [==============================] - 4s 128ms/step - loss: 0.2923 - accuracy: 0.8886 - val_loss: 1.0320 - val_accuracy: 0.5694 - lr: 1.7294e-04\n",
            "Epoch 64/100\n",
            "31/31 [==============================] - ETA: 0s - loss: 0.2991 - accuracy: 0.8790\n",
            "Epoch 64: val_loss did not improve from 0.29149\n",
            "31/31 [==============================] - 4s 134ms/step - loss: 0.2991 - accuracy: 0.8790 - val_loss: 0.7049 - val_accuracy: 0.6962 - lr: 1.7294e-04\n",
            "Epoch 65/100\n",
            "31/31 [==============================] - ETA: 0s - loss: 0.2746 - accuracy: 0.8967\n",
            "Epoch 65: val_loss did not improve from 0.29149\n",
            "31/31 [==============================] - 4s 118ms/step - loss: 0.2746 - accuracy: 0.8967 - val_loss: 0.3206 - val_accuracy: 0.8813 - lr: 1.7294e-04\n",
            "Epoch 66/100\n",
            "31/31 [==============================] - ETA: 0s - loss: 0.2763 - accuracy: 0.8921\n",
            "Epoch 66: ReduceLROnPlateau reducing learning rate to 0.00012106080830562859.\n",
            "\n",
            "Epoch 66: val_loss did not improve from 0.29149\n",
            "31/31 [==============================] - 4s 127ms/step - loss: 0.2763 - accuracy: 0.8921 - val_loss: 1.0915 - val_accuracy: 0.5714 - lr: 1.7294e-04\n",
            "Epoch 67/100\n",
            "31/31 [==============================] - ETA: 0s - loss: 0.2949 - accuracy: 0.8821\n",
            "Epoch 67: val_loss improved from 0.29149 to 0.28911, saving model to ResNet50_Model.hdf5\n",
            "31/31 [==============================] - 11s 349ms/step - loss: 0.2949 - accuracy: 0.8821 - val_loss: 0.2891 - val_accuracy: 0.9034 - lr: 1.2106e-04\n",
            "Epoch 68/100\n",
            "31/31 [==============================] - ETA: 0s - loss: 0.2899 - accuracy: 0.8841\n",
            "Epoch 68: val_loss did not improve from 0.28911\n",
            "31/31 [==============================] - 5s 176ms/step - loss: 0.2899 - accuracy: 0.8841 - val_loss: 0.4106 - val_accuracy: 0.8270 - lr: 1.2106e-04\n",
            "Epoch 69/100\n",
            "31/31 [==============================] - ETA: 0s - loss: 0.2681 - accuracy: 0.8881\n",
            "Epoch 69: val_loss did not improve from 0.28911\n",
            "31/31 [==============================] - 4s 133ms/step - loss: 0.2681 - accuracy: 0.8881 - val_loss: 0.6090 - val_accuracy: 0.7183 - lr: 1.2106e-04\n",
            "Epoch 70/100\n",
            "31/31 [==============================] - ETA: 0s - loss: 0.2588 - accuracy: 0.8957\n",
            "Epoch 70: val_loss did not improve from 0.28911\n",
            "31/31 [==============================] - 6s 183ms/step - loss: 0.2588 - accuracy: 0.8957 - val_loss: 0.3771 - val_accuracy: 0.8390 - lr: 1.2106e-04\n",
            "Epoch 71/100\n",
            "31/31 [==============================] - ETA: 0s - loss: 0.2749 - accuracy: 0.8861\n",
            "Epoch 71: val_loss did not improve from 0.28911\n",
            "31/31 [==============================] - 4s 118ms/step - loss: 0.2749 - accuracy: 0.8861 - val_loss: 0.3884 - val_accuracy: 0.8270 - lr: 1.2106e-04\n",
            "Epoch 72/100\n",
            "31/31 [==============================] - ETA: 0s - loss: 0.2836 - accuracy: 0.8851\n",
            "Epoch 72: val_loss improved from 0.28911 to 0.26185, saving model to ResNet50_Model.hdf5\n",
            "31/31 [==============================] - 13s 427ms/step - loss: 0.2836 - accuracy: 0.8851 - val_loss: 0.2618 - val_accuracy: 0.9054 - lr: 1.2106e-04\n",
            "Epoch 73/100\n",
            "31/31 [==============================] - ETA: 0s - loss: 0.2779 - accuracy: 0.8886\n",
            "Epoch 73: val_loss improved from 0.26185 to 0.25965, saving model to ResNet50_Model.hdf5\n",
            "31/31 [==============================] - 7s 211ms/step - loss: 0.2779 - accuracy: 0.8886 - val_loss: 0.2597 - val_accuracy: 0.9095 - lr: 1.2106e-04\n",
            "Epoch 74/100\n",
            "31/31 [==============================] - ETA: 0s - loss: 0.2839 - accuracy: 0.8921\n",
            "Epoch 74: val_loss did not improve from 0.25965\n",
            "31/31 [==============================] - 4s 120ms/step - loss: 0.2839 - accuracy: 0.8921 - val_loss: 0.3315 - val_accuracy: 0.8692 - lr: 1.2106e-04\n",
            "Epoch 75/100\n",
            "31/31 [==============================] - ETA: 0s - loss: 0.2840 - accuracy: 0.8841\n",
            "Epoch 75: val_loss did not improve from 0.25965\n",
            "31/31 [==============================] - 4s 120ms/step - loss: 0.2840 - accuracy: 0.8841 - val_loss: 0.2738 - val_accuracy: 0.9054 - lr: 1.2106e-04\n",
            "Epoch 76/100\n",
            "31/31 [==============================] - ETA: 0s - loss: 0.2722 - accuracy: 0.8896\n",
            "Epoch 76: val_loss did not improve from 0.25965\n",
            "31/31 [==============================] - 6s 194ms/step - loss: 0.2722 - accuracy: 0.8896 - val_loss: 0.7181 - val_accuracy: 0.6962 - lr: 1.2106e-04\n",
            "Epoch 77/100\n",
            "31/31 [==============================] - ETA: 0s - loss: 0.2679 - accuracy: 0.8906\n",
            "Epoch 77: val_loss did not improve from 0.25965\n",
            "31/31 [==============================] - 4s 123ms/step - loss: 0.2679 - accuracy: 0.8906 - val_loss: 0.5680 - val_accuracy: 0.7384 - lr: 1.2106e-04\n",
            "Epoch 78/100\n",
            "31/31 [==============================] - ETA: 0s - loss: 0.2694 - accuracy: 0.8957\n",
            "Epoch 78: ReduceLROnPlateau reducing learning rate to 0.0001.\n",
            "\n",
            "Epoch 78: val_loss did not improve from 0.25965\n",
            "31/31 [==============================] - 6s 187ms/step - loss: 0.2694 - accuracy: 0.8957 - val_loss: 0.2765 - val_accuracy: 0.8893 - lr: 1.2106e-04\n",
            "Epoch 79/100\n",
            "31/31 [==============================] - ETA: 0s - loss: 0.2775 - accuracy: 0.8871\n",
            "Epoch 79: val_loss did not improve from 0.25965\n",
            "31/31 [==============================] - 4s 121ms/step - loss: 0.2775 - accuracy: 0.8871 - val_loss: 0.4086 - val_accuracy: 0.8068 - lr: 1.0000e-04\n",
            "Epoch 80/100\n",
            "31/31 [==============================] - ETA: 0s - loss: 0.2686 - accuracy: 0.8911\n",
            "Epoch 80: val_loss did not improve from 0.25965\n",
            "31/31 [==============================] - 4s 122ms/step - loss: 0.2686 - accuracy: 0.8911 - val_loss: 0.5230 - val_accuracy: 0.7767 - lr: 1.0000e-04\n",
            "Epoch 81/100\n",
            "31/31 [==============================] - ETA: 0s - loss: 0.2732 - accuracy: 0.8886\n",
            "Epoch 81: val_loss did not improve from 0.25965\n",
            "31/31 [==============================] - 6s 180ms/step - loss: 0.2732 - accuracy: 0.8886 - val_loss: 0.6155 - val_accuracy: 0.7505 - lr: 1.0000e-04\n",
            "Epoch 82/100\n",
            "31/31 [==============================] - ETA: 0s - loss: 0.2669 - accuracy: 0.8921\n",
            "Epoch 82: val_loss did not improve from 0.25965\n",
            "31/31 [==============================] - 4s 124ms/step - loss: 0.2669 - accuracy: 0.8921 - val_loss: 0.6120 - val_accuracy: 0.7404 - lr: 1.0000e-04\n",
            "Epoch 83/100\n",
            "31/31 [==============================] - ETA: 0s - loss: 0.2610 - accuracy: 0.8987\n",
            "Epoch 83: val_loss did not improve from 0.25965\n",
            "31/31 [==============================] - 4s 120ms/step - loss: 0.2610 - accuracy: 0.8987 - val_loss: 0.4144 - val_accuracy: 0.8169 - lr: 1.0000e-04\n",
            "Epoch 84/100\n",
            "31/31 [==============================] - ETA: 0s - loss: 0.2786 - accuracy: 0.8936\n",
            "Epoch 84: val_loss did not improve from 0.25965\n",
            "31/31 [==============================] - 5s 174ms/step - loss: 0.2786 - accuracy: 0.8936 - val_loss: 0.5819 - val_accuracy: 0.7445 - lr: 1.0000e-04\n",
            "Epoch 85/100\n",
            "31/31 [==============================] - ETA: 0s - loss: 0.2821 - accuracy: 0.8881\n",
            "Epoch 85: val_loss did not improve from 0.25965\n",
            "31/31 [==============================] - 4s 120ms/step - loss: 0.2821 - accuracy: 0.8881 - val_loss: 0.2944 - val_accuracy: 0.8793 - lr: 1.0000e-04\n",
            "Epoch 86/100\n",
            "31/31 [==============================] - ETA: 0s - loss: 0.2659 - accuracy: 0.8931\n",
            "Epoch 86: val_loss improved from 0.25965 to 0.25664, saving model to ResNet50_Model.hdf5\n",
            "31/31 [==============================] - 10s 337ms/step - loss: 0.2659 - accuracy: 0.8931 - val_loss: 0.2566 - val_accuracy: 0.9054 - lr: 1.0000e-04\n",
            "Epoch 87/100\n",
            "31/31 [==============================] - ETA: 0s - loss: 0.2635 - accuracy: 0.8997\n",
            "Epoch 87: val_loss improved from 0.25664 to 0.23499, saving model to ResNet50_Model.hdf5\n",
            "31/31 [==============================] - 6s 186ms/step - loss: 0.2635 - accuracy: 0.8997 - val_loss: 0.2350 - val_accuracy: 0.9175 - lr: 1.0000e-04\n",
            "Epoch 88/100\n",
            "31/31 [==============================] - ETA: 0s - loss: 0.2595 - accuracy: 0.8982\n",
            "Epoch 88: val_loss did not improve from 0.23499\n",
            "31/31 [==============================] - 4s 135ms/step - loss: 0.2595 - accuracy: 0.8982 - val_loss: 0.3325 - val_accuracy: 0.8612 - lr: 1.0000e-04\n",
            "Epoch 89/100\n",
            "31/31 [==============================] - ETA: 0s - loss: 0.2601 - accuracy: 0.9007\n",
            "Epoch 89: val_loss did not improve from 0.23499\n",
            "31/31 [==============================] - 5s 146ms/step - loss: 0.2601 - accuracy: 0.9007 - val_loss: 0.2727 - val_accuracy: 0.8833 - lr: 1.0000e-04\n",
            "Epoch 90/100\n",
            "31/31 [==============================] - ETA: 0s - loss: 0.2483 - accuracy: 0.8982\n",
            "Epoch 90: val_loss did not improve from 0.23499\n",
            "31/31 [==============================] - 6s 181ms/step - loss: 0.2483 - accuracy: 0.8982 - val_loss: 0.5536 - val_accuracy: 0.7525 - lr: 1.0000e-04\n",
            "Epoch 91/100\n",
            "31/31 [==============================] - ETA: 0s - loss: 0.2474 - accuracy: 0.9022\n",
            "Epoch 91: val_loss did not improve from 0.23499\n",
            "31/31 [==============================] - 4s 116ms/step - loss: 0.2474 - accuracy: 0.9022 - val_loss: 0.2397 - val_accuracy: 0.9095 - lr: 1.0000e-04\n",
            "Epoch 92/100\n",
            "31/31 [==============================] - ETA: 0s - loss: 0.2626 - accuracy: 0.8962\n",
            "Epoch 92: val_loss did not improve from 0.23499\n",
            "31/31 [==============================] - 4s 120ms/step - loss: 0.2626 - accuracy: 0.8962 - val_loss: 0.2540 - val_accuracy: 0.8934 - lr: 1.0000e-04\n",
            "Epoch 93/100\n",
            "31/31 [==============================] - ETA: 0s - loss: 0.2458 - accuracy: 0.8992\n",
            "Epoch 93: val_loss did not improve from 0.23499\n",
            "31/31 [==============================] - 5s 176ms/step - loss: 0.2458 - accuracy: 0.8992 - val_loss: 0.5255 - val_accuracy: 0.7767 - lr: 1.0000e-04\n",
            "Epoch 94/100\n",
            "31/31 [==============================] - ETA: 0s - loss: 0.2725 - accuracy: 0.8931\n",
            "Epoch 94: val_loss did not improve from 0.23499\n",
            "31/31 [==============================] - 4s 116ms/step - loss: 0.2725 - accuracy: 0.8931 - val_loss: 0.3625 - val_accuracy: 0.8531 - lr: 1.0000e-04\n",
            "Epoch 95/100\n",
            "31/31 [==============================] - ETA: 0s - loss: 0.2622 - accuracy: 0.8987\n",
            "Epoch 95: val_loss did not improve from 0.23499\n",
            "31/31 [==============================] - 5s 176ms/step - loss: 0.2622 - accuracy: 0.8987 - val_loss: 0.2546 - val_accuracy: 0.8954 - lr: 1.0000e-04\n",
            "Epoch 96/100\n",
            "31/31 [==============================] - ETA: 0s - loss: 0.2609 - accuracy: 0.8881\n",
            "Epoch 96: val_loss did not improve from 0.23499\n",
            "31/31 [==============================] - 5s 168ms/step - loss: 0.2609 - accuracy: 0.8881 - val_loss: 0.2615 - val_accuracy: 0.9054 - lr: 1.0000e-04\n",
            "Epoch 97/100\n",
            "31/31 [==============================] - ETA: 0s - loss: 0.2708 - accuracy: 0.8916\n",
            "Epoch 97: val_loss did not improve from 0.23499\n",
            "31/31 [==============================] - 5s 178ms/step - loss: 0.2708 - accuracy: 0.8916 - val_loss: 0.3944 - val_accuracy: 0.8249 - lr: 1.0000e-04\n",
            "Epoch 98/100\n",
            "31/31 [==============================] - ETA: 0s - loss: 0.2600 - accuracy: 0.8977\n",
            "Epoch 98: val_loss did not improve from 0.23499\n",
            "31/31 [==============================] - 4s 123ms/step - loss: 0.2600 - accuracy: 0.8977 - val_loss: 0.2360 - val_accuracy: 0.9074 - lr: 1.0000e-04\n",
            "Epoch 99/100\n",
            "31/31 [==============================] - ETA: 0s - loss: 0.2581 - accuracy: 0.8987\n",
            "Epoch 99: val_loss did not improve from 0.23499\n",
            "31/31 [==============================] - 4s 124ms/step - loss: 0.2581 - accuracy: 0.8987 - val_loss: 0.2379 - val_accuracy: 0.9115 - lr: 1.0000e-04\n",
            "Epoch 100/100\n",
            "31/31 [==============================] - ETA: 0s - loss: 0.2478 - accuracy: 0.9042\n",
            "Epoch 100: val_loss did not improve from 0.23499\n",
            "31/31 [==============================] - 5s 172ms/step - loss: 0.2478 - accuracy: 0.9042 - val_loss: 0.3875 - val_accuracy: 0.8370 - lr: 1.0000e-04\n"
          ]
        }
      ]
    },
    {
      "cell_type": "code",
      "source": [
        "acc = history.history['accuracy']\n",
        "val_acc = history.history['val_accuracy']\n",
        "loss = history.history['loss']\n",
        "val_loss = history.history['val_loss']"
      ],
      "metadata": {
        "id": "I2sBnIVVBYtm"
      },
      "execution_count": null,
      "outputs": []
    },
    {
      "cell_type": "code",
      "source": [
        "epochs = range(len(acc))\n",
        "plt.plot(epochs, acc, 'r', label='Training accuracy')\n",
        "plt.plot(epochs, val_acc, 'b', label='Validation accuracy')\n",
        "plt.title('TraiN & Val Acc VS Epochs')\n",
        "plt.legend(loc=0)\n",
        "plt.figure()\n",
        "plt.show()"
      ],
      "metadata": {
        "colab": {
          "base_uri": "https://localhost:8080/",
          "height": 469
        },
        "id": "WrbVc2DMBjFJ",
        "outputId": "2f1c8215-1e33-483c-e963-5aad9ea4f716"
      },
      "execution_count": null,
      "outputs": [
        {
          "output_type": "display_data",
          "data": {
            "text/plain": [
              "<Figure size 640x480 with 1 Axes>"
            ],
            "image/png": "[encoded data removed]"
          },
          "metadata": {}
        },
        {
          "output_type": "display_data",
          "data": {
            "text/plain": [
              "<Figure size 640x480 with 0 Axes>"
            ]
          },
          "metadata": {}
        }
      ]
    },
    {
      "cell_type": "code",
      "source": [
        "epochs = range(len(acc))\n",
        "plt.plot(epochs, loss, 'r', label='Training Loss')\n",
        "plt.plot(epochs, val_loss, 'b', label='Validation Loss')\n",
        "plt.title('TraiN & Val Loss VS Epochs')\n",
        "plt.legend(loc=0)\n",
        "plt.figure()\n",
        "plt.show()"
      ],
      "metadata": {
        "colab": {
          "base_uri": "https://localhost:8080/",
          "height": 469
        },
        "id": "xt31NDyXBptN",
        "outputId": "c2ee9d76-ac05-41b3-b9e1-f14f58558390"
      },
      "execution_count": null,
      "outputs": [
        {
          "output_type": "display_data",
          "data": {
            "text/plain": [
              "<Figure size 640x480 with 1 Axes>"
            ],
            "image/png": "[encoded data removed]"
          },
          "metadata": {}
        },
        {
          "output_type": "display_data",
          "data": {
            "text/plain": [
              "<Figure size 640x480 with 0 Axes>"
            ]
          },
          "metadata": {}
        }
      ]
    },
    {
      "cell_type": "code",
      "source": [
        "model.load_weights(\"ResNet50_Model.hdf5\")\n",
        "score = model.evaluate(X_val, Y_val ,verbose=1)\n",
        "print('Test Loss:', score[0])\n",
        "print('Test accuracy:', score[1]*100)"
      ],
      "metadata": {
        "colab": {
          "base_uri": "https://localhost:8080/"
        },
        "id": "0E27RQ3RBsI_",
        "outputId": "7b56346d-f0b3-412e-837c-76e8e08ebd39"
      },
      "execution_count": null,
      "outputs": [
        {
          "output_type": "stream",
          "name": "stdout",
          "text": [
            "16/16 [==============================] - 1s 42ms/step - loss: 0.2350 - accuracy: 0.9175\n",
            "Test Loss: 0.23498894274234772\n",
            "Test accuracy: 91.75050258636475\n"
          ]
        }
      ]
    },
    {
      "cell_type": "code",
      "source": [
        "Y_pred = model.predict(X_val)\n",
        "Y_predx = np.argmax(Y_pred, axis = -1)\n",
        "Y_valx = np.argmax(Y_val, axis = -1)\n",
        "cf_matrix = confusion_matrix(Y_valx, Y_predx)\n",
        "group_names = ['True Neg','False Pos','False Neg','True Pos']\n",
        "group_counts = [\"{0:0.0f}\".format(value) for value in\n",
        "                cf_matrix.flatten()]\n",
        "group_percentages = [\"{0:.2%}\".format(value) for value in\n",
        "                     cf_matrix.flatten()/np.sum(cf_matrix)]\n",
        "labels = [f\"{v1}\\n{v2}\\n{v3}\" for v1, v2, v3 in\n",
        "          zip(group_names,group_counts,group_percentages)]\n",
        "labels = np.asarray(labels).reshape(2,2)\n",
        "sns.heatmap(cf_matrix, annot = labels, fmt = '')\n",
        "plt.title(\"Confusion Matrix\")"
      ],
      "metadata": {
        "colab": {
          "base_uri": "https://localhost:8080/",
          "height": 487
        },
        "id": "S7ftHbj1BwbS",
        "outputId": "3d703f2e-162c-454d-b602-dabe62a19cfa"
      },
      "execution_count": null,
      "outputs": [
        {
          "output_type": "stream",
          "name": "stdout",
          "text": [
            "16/16 [==============================] - 4s 29ms/step\n"
          ]
        },
        {
          "output_type": "execute_result",
          "data": {
            "text/plain": [
              "Text(0.5, 1.0, 'Confusion Matrix')"
            ]
          },
          "metadata": {},
          "execution_count": 39
        },
        {
          "output_type": "display_data",
          "data": {
            "text/plain": [
              "<Figure size 640x480 with 2 Axes>"
            ],
            "image/png": "[encoded data removed]"
          },
          "metadata": {}
        }
      ]
    },
    {
      "cell_type": "code",
      "source": [
        "from tensorflow.keras.models import load_model\n",
        "from tensorflow.keras.preprocessing import image\n",
        "import numpy as np\n",
        "\n",
        "# Load the pre-trained model\n",
        "model_path = '/content/gdrive/MyDrive/cov_web_datset/ResNet50_Model.hdf5'\n",
        "model = load_model(model_path)\n",
        "\n",
        "# Load and preprocess the image\n",
        "path = \"/content/gdrive/MyDrive/cov_web_datset/COVID/Covid (1013).png\"\n",
        "img = image.load_img(path, target_size=(64, 64))\n",
        "img = image.img_to_array(img) / 255.0\n",
        "img = np.array([img])\n",
        "\n",
        "# Make predictions\n",
        "predictions = model.predict(img)\n",
        "\n",
        "# Set a threshold for binary classification\n",
        "threshold = 0.5\n",
        "if predictions[0][0] >= threshold:\n",
        "    result = \"COVID: Positive\"\n",
        "else:\n",
        "    result = \"COVID: Negative\"\n",
        "\n",
        "print(f'The image is classified as: {result}')\n"
      ],
      "metadata": {
        "colab": {
          "base_uri": "https://localhost:8080/"
        },
        "id": "FpP8U0km3-Hy",
        "outputId": "81ab5775-5ffa-40c6-eca0-3e6653b2e94b"
      },
      "execution_count": null,
      "outputs": [
        {
          "output_type": "stream",
          "name": "stdout",
          "text": [
            "1/1 [==============================] - 1s 1s/step\n",
            "The image is classified as: COVID: Positive\n"
          ]
        }
      ]
    }
  ]
}