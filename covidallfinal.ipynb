{
  "nbformat": 4,
  "nbformat_minor": 0,
  "metadata": {
    "colab": {
      "provenance": [],
      "gpuType": "T4"
    },
    "kernelspec": {
      "name": "python3",
      "display_name": "Python 3"
    },
    "language_info": {
      "name": "python"
    },
    "accelerator": "GPU"
  },
  "cells": [
    {
      "cell_type": "code",
      "execution_count": null,
      "metadata": {
        "colab": {
          "base_uri": "https://localhost:8080/"
        },
        "id": "x_atSfsDWHz4",
        "outputId": "174260c3-b114-4551-cd66-a34f436ac382"
      },
      "outputs": [
        {
          "output_type": "stream",
          "name": "stdout",
          "text": [
            "Drive already mounted at /content/gdrive; to attempt to forcibly remount, call drive.mount(\"/content/gdrive\", force_remount=True).\n"
          ]
        }
      ],
      "source": [
        "from google.colab import drive\n",
        "drive.mount('/content/gdrive')"
      ]
    },
    {
      "cell_type": "code",
      "source": [
        "# ResNet50 model\n",
        "from tensorflow.keras.models import load_model\n",
        "from tensorflow.keras.preprocessing import image\n",
        "import numpy as np\n",
        "\n",
        "# Load the pre-trained model\n",
        "model_path = '/content/gdrive/MyDrive/cov_files/ResNet50_Model.hdf5'\n",
        "model = load_model(model_path)\n",
        "\n",
        "# Load and preprocess the image\n",
        "path = \"/content/gdrive/MyDrive/cov_web_datset/COVID/Covid (1013).png\"\n",
        "img = image.load_img(path, target_size=(64, 64))\n",
        "img = image.img_to_array(img) / 255.0\n",
        "img = np.array([img])\n",
        "\n",
        "# Make predictions\n",
        "predictions = model.predict(img)\n",
        "\n",
        "# Set a threshold for binary classification\n",
        "threshold = 0.5\n",
        "if predictions[0][0] >= threshold:\n",
        "    result = \"COVID: Positive\"\n",
        "else:\n",
        "    result = \"COVID: Negative\"\n",
        "\n",
        "print(f'The image is classified as: {result}')\n"
      ],
      "metadata": {
        "colab": {
          "base_uri": "https://localhost:8080/"
        },
        "id": "U3zpdbQbWn2t",
        "outputId": "40f8de13-1606-4a2f-e761-595a379ea7b3"
      },
      "execution_count": null,
      "outputs": [
        {
          "output_type": "stream",
          "name": "stdout",
          "text": [
            "1/1 [==============================] - 1s 923ms/step\n",
            "The image is classified as: COVID: Positive\n"
          ]
        }
      ]
    },
    {
      "cell_type": "code",
      "source": [
        "# Xception Model\n",
        "from tensorflow.keras.models import load_model\n",
        "from tensorflow.keras.preprocessing import image\n",
        "import numpy as np\n",
        "\n",
        "# Load the pre-trained model\n",
        "model_path = '/content/gdrive/MyDrive/cov_files/Xception_Model.hdf5'\n",
        "model = load_model(model_path)\n",
        "\n",
        "# Load and preprocess the image\n",
        "path = \"/content/gdrive/MyDrive/cov_web_datset/non-COVID/Non-Covid (10).png\"\n",
        "img = image.load_img(path, target_size=(64, 64))\n",
        "img = image.img_to_array(img) / 255.0\n",
        "img = np.array([img])\n",
        "\n",
        "# Make predictions\n",
        "predictions = model.predict(img)\n",
        "\n",
        "# Set a threshold for binary classification\n",
        "threshold = 0.5\n",
        "if predictions[0][0] >= threshold:\n",
        "    result = \"COVID: Positive\"\n",
        "else:\n",
        "    result = \"COVID: Negative\"\n",
        "\n",
        "print(f'The image is classified as: {result}')\n"
      ],
      "metadata": {
        "colab": {
          "base_uri": "https://localhost:8080/"
        },
        "id": "-xuyBUnAW5dD",
        "outputId": "0320c046-9816-4ea2-a742-6ae0543c8605"
      },
      "execution_count": null,
      "outputs": [
        {
          "output_type": "stream",
          "name": "stderr",
          "text": [
            "WARNING:tensorflow:5 out of the last 5 calls to <function Model.make_predict_function.<locals>.predict_function at 0x7b94b854cca0> triggered tf.function retracing. Tracing is expensive and the excessive number of tracings could be due to (1) creating @tf.function repeatedly in a loop, (2) passing tensors with different shapes, (3) passing Python objects instead of tensors. For (1), please define your @tf.function outside of the loop. For (2), @tf.function has reduce_retracing=True option that can avoid unnecessary retracing. For (3), please refer to https://www.tensorflow.org/guide/function#controlling_retracing and https://www.tensorflow.org/api_docs/python/tf/function for  more details.\n"
          ]
        },
        {
          "output_type": "stream",
          "name": "stdout",
          "text": [
            "1/1 [==============================] - 1s 786ms/step\n",
            "The image is classified as: COVID: Negative\n"
          ]
        }
      ]
    },
    {
      "cell_type": "code",
      "source": [
        "# VGG16 Model\n",
        "from tensorflow.keras.models import load_model\n",
        "from tensorflow.keras.preprocessing import image\n",
        "import numpy as np\n",
        "\n",
        "# Load the pre-trained model\n",
        "model_path = '/content/gdrive/MyDrive/cov_files/VGG16_Model.hdf5'\n",
        "model = load_model(model_path)\n",
        "\n",
        "# Load and preprocess the image\n",
        "path = \"/content/gdrive/MyDrive/cov_web_datset/non-COVID/Non-Covid (100).png\"\n",
        "img = image.load_img(path, target_size=(150, 150))  # Resize to match the model's input shape\n",
        "img = image.img_to_array(img) / 255.0\n",
        "img = np.array([img])\n",
        "\n",
        "# Make predictions\n",
        "predictions = model.predict(img)\n",
        "\n",
        "# Set a threshold for binary classification\n",
        "threshold = 0.5\n",
        "if predictions[0][0] >= threshold:\n",
        "    result = \"COVID: Positive\"\n",
        "else:\n",
        "    result = \"COVID: Negative\"\n",
        "\n",
        "print(f'The image is classified as: {result}')\n"
      ],
      "metadata": {
        "colab": {
          "base_uri": "https://localhost:8080/"
        },
        "id": "G6HEwAN2W6lz",
        "outputId": "f2103513-9570-405d-f051-30c0522a8caf"
      },
      "execution_count": null,
      "outputs": [
        {
          "output_type": "stream",
          "name": "stderr",
          "text": [
            "WARNING:tensorflow:6 out of the last 6 calls to <function Model.make_predict_function.<locals>.predict_function at 0x7b94b854de10> triggered tf.function retracing. Tracing is expensive and the excessive number of tracings could be due to (1) creating @tf.function repeatedly in a loop, (2) passing tensors with different shapes, (3) passing Python objects instead of tensors. For (1), please define your @tf.function outside of the loop. For (2), @tf.function has reduce_retracing=True option that can avoid unnecessary retracing. For (3), please refer to https://www.tensorflow.org/guide/function#controlling_retracing and https://www.tensorflow.org/api_docs/python/tf/function for  more details.\n"
          ]
        },
        {
          "output_type": "stream",
          "name": "stdout",
          "text": [
            "1/1 [==============================] - 0s 172ms/step\n",
            "The image is classified as: COVID: Negative\n"
          ]
        }
      ]
    }
  ]
}